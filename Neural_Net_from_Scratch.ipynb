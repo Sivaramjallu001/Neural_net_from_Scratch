{
  "nbformat": 4,
  "nbformat_minor": 0,
  "metadata": {
    "colab": {
      "provenance": [],
      "authorship_tag": "ABX9TyPC7pFpv/KBo9CPTj/ryyOS",
      "include_colab_link": true
    },
    "kernelspec": {
      "name": "python3",
      "display_name": "Python 3"
    },
    "language_info": {
      "name": "python"
    }
  },
  "cells": [
    {
      "cell_type": "markdown",
      "metadata": {
        "id": "view-in-github",
        "colab_type": "text"
      },
      "source": [
        "<a href=\"https://colab.research.google.com/github/Sivaramjallu001/Neural_net_from_Scratch/blob/main/Neural_Net_from_Scratch.ipynb\" target=\"_parent\"><img src=\"https://colab.research.google.com/assets/colab-badge.svg\" alt=\"Open In Colab\"/></a>"
      ]
    },
    {
      "cell_type": "code",
      "source": [
        "#just trying to build neural net from scratch without using tensorflow or pytorch"
      ],
      "metadata": {
        "id": "qVzB5pbeV0kg"
      },
      "execution_count": null,
      "outputs": []
    },
    {
      "cell_type": "code",
      "source": [
        "import pandas as pd\n",
        "import numpy as np"
      ],
      "metadata": {
        "id": "oWUSaR1vQLnv"
      },
      "execution_count": null,
      "outputs": []
    },
    {
      "cell_type": "markdown",
      "source": [
        "**this is for single neuron with three inputs and Relu function**"
      ],
      "metadata": {
        "id": "xPjKFrXNSUTr"
      }
    },
    {
      "cell_type": "code",
      "source": [
        "input_arr = [0.1, 0.2, 0.3]\n",
        "bias = 0.3\n",
        "weights = [5, 7, 9]\n",
        "\n",
        "z = np.dot(input_arr, weights) + bias\n",
        "op = max(0, z)"
      ],
      "metadata": {
        "id": "rn9XlRfLQQJ9",
        "colab": {
          "base_uri": "https://localhost:8080/"
        },
        "outputId": "37c3b88d-1c72-48d4-9e1f-ab0015312f6e"
      },
      "execution_count": 2,
      "outputs": [
        {
          "output_type": "stream",
          "name": "stdout",
          "text": [
            "4.8999999999999995\n"
          ]
        }
      ]
    },
    {
      "cell_type": "markdown",
      "source": [
        "**Taking this into a bigger picture**\n",
        "\n",
        "\n"
      ],
      "metadata": {
        "id": "DEbSPSUfS5nN"
      }
    },
    {
      "cell_type": "code",
      "source": [
        "\n",
        "# Inputs\n",
        "inputs = np.array([1.0, 2.0, 3.0])\n",
        "\n",
        "# Weights for 3 neurons (rows = neurons, columns = inputs)\n",
        "weights = np.array([\n",
        "    [0.5, -0.2, 0.8],  # Neuron 1\n",
        "    [-0.1, 0.9, -0.4], # Neuron 2\n",
        "    [0.3, 0.2, -0.5]   # Neuron 3\n",
        "])\n",
        "\n",
        "# Biases for each neuron\n",
        "biases = np.array([0.1, -0.3, 0.5])\n",
        "\n",
        "# Compute the weighted sum for all neurons\n",
        "z = np.dot(inputs, weights.T) + biases  # Transpose weights to align dimensions\n",
        "\n",
        "# Apply ReLU activation function\n",
        "outputs = np.maximum(0, z)\n",
        "\n",
        "# Print results\n",
        "print(f\"Weighted sums (z): {z}\")\n",
        "print(f\"Outputs after ReLU activation: {outputs}\")\n",
        "\n"
      ],
      "metadata": {
        "colab": {
          "base_uri": "https://localhost:8080/"
        },
        "id": "H90oCl7jS_hz",
        "outputId": "3000697a-5828-4197-da18-7047846ac96a"
      },
      "execution_count": 8,
      "outputs": [
        {
          "output_type": "stream",
          "name": "stdout",
          "text": [
            "Weighted sums (z): [ 2.6  0.2 -0.3]\n",
            "Outputs after ReLU activation: [2.6 0.2 0. ]\n"
          ]
        }
      ]
    },
    {
      "cell_type": "markdown",
      "source": [
        "**Okay now let's connect the op of the three with the firstly constructed 3 input single op neuron with ReLU as an activation unit**"
      ],
      "metadata": {
        "id": "3QoF6uKkbxza"
      }
    },
    {
      "cell_type": "code",
      "source": [
        "input_arr = outputs\n",
        "print(input_arr)\n",
        "bias = 0.3\n",
        "weights2 = [0.55, -0.07, -0.9]\n",
        "\n",
        "z = np.dot(input_arr, weights2) + bias\n",
        "op = np.maximum(0, z)"
      ],
      "metadata": {
        "colab": {
          "base_uri": "https://localhost:8080/"
        },
        "id": "-d4bi9V8cZK7",
        "outputId": "7809f016-1963-4be9-9326-c5cc13d3a191"
      },
      "execution_count": 23,
      "outputs": [
        {
          "output_type": "stream",
          "name": "stdout",
          "text": [
            "[2.6 0.2 0. ]\n"
          ]
        }
      ]
    },
    {
      "cell_type": "code",
      "source": [
        "print(op)"
      ],
      "metadata": {
        "colab": {
          "base_uri": "https://localhost:8080/"
        },
        "id": "vt2TDFqxc1hj",
        "outputId": "11474a7a-eac7-4d32-bd5d-c12cfe3368e2"
      },
      "execution_count": 24,
      "outputs": [
        {
          "output_type": "stream",
          "name": "stdout",
          "text": [
            "1.7160000000000002\n"
          ]
        }
      ]
    },
    {
      "cell_type": "code",
      "source": [],
      "metadata": {
        "id": "MqntCydSc6Y6"
      },
      "execution_count": null,
      "outputs": []
    }
  ]
}